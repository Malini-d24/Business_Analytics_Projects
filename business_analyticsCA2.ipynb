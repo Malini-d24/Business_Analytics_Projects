{
 "cells": [
  {
   "cell_type": "markdown",
   "id": "cab8168b",
   "metadata": {},
   "source": [
    " Name    : Malini D\n",
    " \n",
    " Roll.No : CB.SC.I5DAS20118"
   ]
  },
  {
   "cell_type": "markdown",
   "id": "726d559e",
   "metadata": {},
   "source": [
    "#                                BUSINESS ANALYTICS CASESTUDY 2                          \n",
    "#"
   ]
  },
  {
   "cell_type": "code",
   "execution_count": 19,
   "id": "917f8e2d",
   "metadata": {},
   "outputs": [
    {
     "data": {
      "text/html": [
       "<div>\n",
       "<style scoped>\n",
       "    .dataframe tbody tr th:only-of-type {\n",
       "        vertical-align: middle;\n",
       "    }\n",
       "\n",
       "    .dataframe tbody tr th {\n",
       "        vertical-align: top;\n",
       "    }\n",
       "\n",
       "    .dataframe thead th {\n",
       "        text-align: right;\n",
       "    }\n",
       "</style>\n",
       "<table border=\"1\" class=\"dataframe\">\n",
       "  <thead>\n",
       "    <tr style=\"text-align: right;\">\n",
       "      <th></th>\n",
       "      <th>TripID</th>\n",
       "      <th>Late</th>\n",
       "      <th>Bus Driver</th>\n",
       "      <th>Weekday</th>\n",
       "      <th>Time</th>\n",
       "    </tr>\n",
       "  </thead>\n",
       "  <tbody>\n",
       "    <tr>\n",
       "      <th>0</th>\n",
       "      <td>1</td>\n",
       "      <td>12</td>\n",
       "      <td>John</td>\n",
       "      <td>Wednesday</td>\n",
       "      <td>8:45 AM</td>\n",
       "    </tr>\n",
       "    <tr>\n",
       "      <th>1</th>\n",
       "      <td>3</td>\n",
       "      <td>1</td>\n",
       "      <td>Paulo</td>\n",
       "      <td>Tuesday</td>\n",
       "      <td>9:25 AM</td>\n",
       "    </tr>\n",
       "    <tr>\n",
       "      <th>2</th>\n",
       "      <td>5</td>\n",
       "      <td>3</td>\n",
       "      <td>Mark</td>\n",
       "      <td>Tuesday</td>\n",
       "      <td>9:25 AM</td>\n",
       "    </tr>\n",
       "    <tr>\n",
       "      <th>3</th>\n",
       "      <td>7</td>\n",
       "      <td>45</td>\n",
       "      <td>Raymond</td>\n",
       "      <td>Thursday</td>\n",
       "      <td>9:25 AM</td>\n",
       "    </tr>\n",
       "    <tr>\n",
       "      <th>4</th>\n",
       "      <td>9</td>\n",
       "      <td>61</td>\n",
       "      <td>Mark</td>\n",
       "      <td>Friday</td>\n",
       "      <td>9:25 AM</td>\n",
       "    </tr>\n",
       "    <tr>\n",
       "      <th>5</th>\n",
       "      <td>11</td>\n",
       "      <td>2</td>\n",
       "      <td>Monica</td>\n",
       "      <td>Tuesday</td>\n",
       "      <td>8:45 AM</td>\n",
       "    </tr>\n",
       "    <tr>\n",
       "      <th>6</th>\n",
       "      <td>13</td>\n",
       "      <td>5</td>\n",
       "      <td>John</td>\n",
       "      <td>Tuesday</td>\n",
       "      <td>8:45 AM</td>\n",
       "    </tr>\n",
       "    <tr>\n",
       "      <th>7</th>\n",
       "      <td>121</td>\n",
       "      <td>10</td>\n",
       "      <td>John</td>\n",
       "      <td>Wednesday</td>\n",
       "      <td>7:15 AM</td>\n",
       "    </tr>\n",
       "    <tr>\n",
       "      <th>8</th>\n",
       "      <td>127</td>\n",
       "      <td>-2</td>\n",
       "      <td>Mark</td>\n",
       "      <td>Monday</td>\n",
       "      <td>9:25 AM</td>\n",
       "    </tr>\n",
       "    <tr>\n",
       "      <th>9</th>\n",
       "      <td>16</td>\n",
       "      <td>14</td>\n",
       "      <td>John</td>\n",
       "      <td>Wednesday</td>\n",
       "      <td>7:15 AM</td>\n",
       "    </tr>\n",
       "    <tr>\n",
       "      <th>10</th>\n",
       "      <td>98</td>\n",
       "      <td>0</td>\n",
       "      <td>Raymond</td>\n",
       "      <td>Friday</td>\n",
       "      <td>9:25 AM</td>\n",
       "    </tr>\n",
       "    <tr>\n",
       "      <th>11</th>\n",
       "      <td>103</td>\n",
       "      <td>-1</td>\n",
       "      <td>Paulo</td>\n",
       "      <td>Friday</td>\n",
       "      <td>9:25 AM</td>\n",
       "    </tr>\n",
       "    <tr>\n",
       "      <th>12</th>\n",
       "      <td>108</td>\n",
       "      <td>3</td>\n",
       "      <td>Mark</td>\n",
       "      <td>Friday</td>\n",
       "      <td>8:00 AM</td>\n",
       "    </tr>\n",
       "    <tr>\n",
       "      <th>13</th>\n",
       "      <td>113</td>\n",
       "      <td>45</td>\n",
       "      <td>John</td>\n",
       "      <td>Monday</td>\n",
       "      <td>9:25 AM</td>\n",
       "    </tr>\n",
       "    <tr>\n",
       "      <th>14</th>\n",
       "      <td>118</td>\n",
       "      <td>7</td>\n",
       "      <td>John</td>\n",
       "      <td>Monday</td>\n",
       "      <td>8:45 AM</td>\n",
       "    </tr>\n",
       "    <tr>\n",
       "      <th>15</th>\n",
       "      <td>757</td>\n",
       "      <td>17</td>\n",
       "      <td>Paulo</td>\n",
       "      <td>Wednesday</td>\n",
       "      <td>9:25 AM</td>\n",
       "    </tr>\n",
       "    <tr>\n",
       "      <th>16</th>\n",
       "      <td>477</td>\n",
       "      <td>8</td>\n",
       "      <td>John</td>\n",
       "      <td>Tuesday</td>\n",
       "      <td>9:25 AM</td>\n",
       "    </tr>\n",
       "    <tr>\n",
       "      <th>17</th>\n",
       "      <td>133</td>\n",
       "      <td>19</td>\n",
       "      <td>Raymond</td>\n",
       "      <td>Tuesday</td>\n",
       "      <td>8:00AM</td>\n",
       "    </tr>\n",
       "    <tr>\n",
       "      <th>18</th>\n",
       "      <td>138</td>\n",
       "      <td>22</td>\n",
       "      <td>John</td>\n",
       "      <td>Tuesday</td>\n",
       "      <td>7:15 AM</td>\n",
       "    </tr>\n",
       "    <tr>\n",
       "      <th>19</th>\n",
       "      <td>128</td>\n",
       "      <td>0</td>\n",
       "      <td>John</td>\n",
       "      <td>Monday</td>\n",
       "      <td>7:15 AM</td>\n",
       "    </tr>\n",
       "    <tr>\n",
       "      <th>20</th>\n",
       "      <td>19</td>\n",
       "      <td>2</td>\n",
       "      <td>John</td>\n",
       "      <td>Monday</td>\n",
       "      <td>8:45 AM</td>\n",
       "    </tr>\n",
       "    <tr>\n",
       "      <th>21</th>\n",
       "      <td>21</td>\n",
       "      <td>7</td>\n",
       "      <td>Paulo</td>\n",
       "      <td>Thursday</td>\n",
       "      <td>9:25 AM</td>\n",
       "    </tr>\n",
       "    <tr>\n",
       "      <th>22</th>\n",
       "      <td>23</td>\n",
       "      <td>-1</td>\n",
       "      <td>Paulo</td>\n",
       "      <td>Monday</td>\n",
       "      <td>8:45 AM</td>\n",
       "    </tr>\n",
       "    <tr>\n",
       "      <th>23</th>\n",
       "      <td>25</td>\n",
       "      <td>32</td>\n",
       "      <td>Mark</td>\n",
       "      <td>Thursday</td>\n",
       "      <td>8:00AM</td>\n",
       "    </tr>\n",
       "    <tr>\n",
       "      <th>24</th>\n",
       "      <td>27</td>\n",
       "      <td>2</td>\n",
       "      <td>John</td>\n",
       "      <td>Monday</td>\n",
       "      <td>8:00AM</td>\n",
       "    </tr>\n",
       "    <tr>\n",
       "      <th>25</th>\n",
       "      <td>143</td>\n",
       "      <td>23</td>\n",
       "      <td>John</td>\n",
       "      <td>Friday</td>\n",
       "      <td>9:25 AM</td>\n",
       "    </tr>\n",
       "    <tr>\n",
       "      <th>26</th>\n",
       "      <td>123</td>\n",
       "      <td>14</td>\n",
       "      <td>Raymond</td>\n",
       "      <td>Thursday</td>\n",
       "      <td>8:45 AM</td>\n",
       "    </tr>\n",
       "    <tr>\n",
       "      <th>27</th>\n",
       "      <td>15</td>\n",
       "      <td>7</td>\n",
       "      <td>Paulo</td>\n",
       "      <td>Wednesday</td>\n",
       "      <td>8:45 AM</td>\n",
       "    </tr>\n",
       "    <tr>\n",
       "      <th>28</th>\n",
       "      <td>758</td>\n",
       "      <td>9</td>\n",
       "      <td>Monica</td>\n",
       "      <td>Tuesday</td>\n",
       "      <td>9:25 AM</td>\n",
       "    </tr>\n",
       "    <tr>\n",
       "      <th>29</th>\n",
       "      <td>17</td>\n",
       "      <td>29</td>\n",
       "      <td>Paulo</td>\n",
       "      <td>Thursday</td>\n",
       "      <td>7:15 AM</td>\n",
       "    </tr>\n",
       "    <tr>\n",
       "      <th>30</th>\n",
       "      <td>401</td>\n",
       "      <td>12</td>\n",
       "      <td>Raymond</td>\n",
       "      <td>Tuesday</td>\n",
       "      <td>9:25 AM</td>\n",
       "    </tr>\n",
       "    <tr>\n",
       "      <th>31</th>\n",
       "      <td>712</td>\n",
       "      <td>11</td>\n",
       "      <td>Raymond</td>\n",
       "      <td>Tuesday</td>\n",
       "      <td>8:45 AM</td>\n",
       "    </tr>\n",
       "    <tr>\n",
       "      <th>32</th>\n",
       "      <td>91</td>\n",
       "      <td>-1</td>\n",
       "      <td>Raymond</td>\n",
       "      <td>Tuesday</td>\n",
       "      <td>7:15 AM</td>\n",
       "    </tr>\n",
       "    <tr>\n",
       "      <th>33</th>\n",
       "      <td>92</td>\n",
       "      <td>7</td>\n",
       "      <td>Paulo</td>\n",
       "      <td>Wednesday</td>\n",
       "      <td>8:45 AM</td>\n",
       "    </tr>\n",
       "    <tr>\n",
       "      <th>34</th>\n",
       "      <td>112</td>\n",
       "      <td>31</td>\n",
       "      <td>Paulo</td>\n",
       "      <td>Wednesday</td>\n",
       "      <td>9:25 AM</td>\n",
       "    </tr>\n",
       "    <tr>\n",
       "      <th>35</th>\n",
       "      <td>94</td>\n",
       "      <td>0</td>\n",
       "      <td>Monica</td>\n",
       "      <td>Wednesday</td>\n",
       "      <td>9:25 AM</td>\n",
       "    </tr>\n",
       "    <tr>\n",
       "      <th>36</th>\n",
       "      <td>814</td>\n",
       "      <td>14</td>\n",
       "      <td>Paulo</td>\n",
       "      <td>Monday</td>\n",
       "      <td>7:15 AM</td>\n",
       "    </tr>\n",
       "    <tr>\n",
       "      <th>37</th>\n",
       "      <td>917</td>\n",
       "      <td>-1</td>\n",
       "      <td>Monica</td>\n",
       "      <td>Tuesday</td>\n",
       "      <td>8:00 AM</td>\n",
       "    </tr>\n",
       "  </tbody>\n",
       "</table>\n",
       "</div>"
      ],
      "text/plain": [
       "    TripID  Late Bus Driver    Weekday     Time\n",
       "0        1    12       John  Wednesday  8:45 AM\n",
       "1        3     1      Paulo    Tuesday  9:25 AM\n",
       "2        5     3       Mark    Tuesday  9:25 AM\n",
       "3        7    45    Raymond   Thursday  9:25 AM\n",
       "4        9    61       Mark     Friday  9:25 AM\n",
       "5       11     2     Monica    Tuesday  8:45 AM\n",
       "6       13     5       John    Tuesday  8:45 AM\n",
       "7      121    10       John  Wednesday  7:15 AM\n",
       "8      127    -2       Mark     Monday  9:25 AM\n",
       "9       16    14       John  Wednesday  7:15 AM\n",
       "10      98     0    Raymond     Friday  9:25 AM\n",
       "11     103    -1      Paulo     Friday  9:25 AM\n",
       "12     108     3       Mark     Friday  8:00 AM\n",
       "13     113    45       John     Monday  9:25 AM\n",
       "14     118     7       John     Monday  8:45 AM\n",
       "15     757    17      Paulo  Wednesday  9:25 AM\n",
       "16     477     8       John    Tuesday  9:25 AM\n",
       "17     133    19    Raymond    Tuesday   8:00AM\n",
       "18     138    22       John    Tuesday  7:15 AM\n",
       "19     128     0       John     Monday  7:15 AM\n",
       "20      19     2       John     Monday  8:45 AM\n",
       "21      21     7      Paulo   Thursday  9:25 AM\n",
       "22      23    -1      Paulo     Monday  8:45 AM\n",
       "23      25    32       Mark   Thursday   8:00AM\n",
       "24      27     2       John     Monday   8:00AM\n",
       "25     143    23       John     Friday  9:25 AM\n",
       "26     123    14    Raymond   Thursday  8:45 AM\n",
       "27      15     7      Paulo  Wednesday  8:45 AM\n",
       "28     758     9     Monica    Tuesday  9:25 AM\n",
       "29      17    29      Paulo   Thursday  7:15 AM\n",
       "30     401    12    Raymond    Tuesday  9:25 AM\n",
       "31     712    11    Raymond    Tuesday  8:45 AM\n",
       "32      91    -1    Raymond    Tuesday  7:15 AM\n",
       "33      92     7      Paulo  Wednesday  8:45 AM\n",
       "34     112    31      Paulo  Wednesday  9:25 AM\n",
       "35      94     0     Monica  Wednesday  9:25 AM\n",
       "36     814    14      Paulo     Monday  7:15 AM\n",
       "37     917    -1     Monica    Tuesday  8:00 AM"
      ]
     },
     "execution_count": 19,
     "metadata": {},
     "output_type": "execute_result"
    }
   ],
   "source": [
    "import pandas as pd\n",
    "df=pd.read_csv(r'C:\\Users\\Malini\\Downloads\\bus_to_NYC.csv')\n",
    "df"
   ]
  },
  {
   "cell_type": "markdown",
   "id": "b657be49",
   "metadata": {},
   "source": [
    "# 1.Based on the data, how many observations for the departure delays did Carlos collect?"
   ]
  },
  {
   "cell_type": "code",
   "execution_count": 25,
   "id": "47a4233c",
   "metadata": {},
   "outputs": [
    {
     "name": "stdout",
     "output_type": "stream",
     "text": [
      "Number of observations with departure delays: 38\n"
     ]
    }
   ],
   "source": [
    "import pandas as pd\n",
    "\n",
    "\n",
    "# Count observations with departure delays\n",
    "departure_delays_count = df.shape[0]\n",
    "\n",
    "print(\"Number of observations with departure delays:\", departure_delays_count)\n"
   ]
  },
  {
   "cell_type": "markdown",
   "id": "459a36a3",
   "metadata": {},
   "source": [
    "The number of observations with departure delays, as calculated from the provided sample data using the given code, is 38. This information is derived from the values in the \"Late\" column.\n"
   ]
  },
  {
   "cell_type": "markdown",
   "id": "3a2c18c2",
   "metadata": {},
   "source": [
    "# 2. Based on the data, what is the mean for the departure delays?\n"
   ]
  },
  {
   "cell_type": "code",
   "execution_count": 21,
   "id": "026b77c5",
   "metadata": {},
   "outputs": [
    {
     "name": "stdout",
     "output_type": "stream",
     "text": [
      "Mean of departure delays: 12.31578947368421\n"
     ]
    }
   ],
   "source": [
    "import pandas as pd\n",
    "\n",
    "\n",
    "# Calculate the mean of departure delays\n",
    "mean_departure_delays = df['Late'].mean()\n",
    "\n",
    "print(\"Mean of departure delays:\", mean_departure_delays)\n"
   ]
  },
  {
   "cell_type": "markdown",
   "id": "6c9e4f97",
   "metadata": {},
   "source": [
    "The mean of departure delays, calculated from the provided sample data, is approximately 12.32. This value represents the average departure delay across the observations in the \"Late\" column. It provides a central measure for understanding the typical departure delay in the dataset."
   ]
  },
  {
   "cell_type": "markdown",
   "id": "67277b80",
   "metadata": {},
   "source": [
    "# 3. Based on the data, what is the median for the departure delays?\n"
   ]
  },
  {
   "cell_type": "code",
   "execution_count": 22,
   "id": "625fff34",
   "metadata": {},
   "outputs": [
    {
     "name": "stdout",
     "output_type": "stream",
     "text": [
      "Median of departure delays: 7.5\n"
     ]
    }
   ],
   "source": [
    "import pandas as pd\n",
    "\n",
    "\n",
    "# Calculate the median of departure delays\n",
    "median_departure_delays = df['Late'].median()\n",
    "\n",
    "print(\"Median of departure delays:\", median_departure_delays)\n"
   ]
  },
  {
   "cell_type": "markdown",
   "id": "e32a7f90",
   "metadata": {},
   "source": [
    "The median of departure delays, calculated from the provided sample data, is 7.5. The median represents the middle value of the \"Late\" column when the data is sorted.It provides a measure of central tendency that is not influenced by extreme values and gives an insight into the typical midpoint of the departure delay distribution in the dataset."
   ]
  },
  {
   "cell_type": "markdown",
   "id": "7dcb9786",
   "metadata": {},
   "source": [
    "# 4.Based on the data, what is the standard deviation for the departure delays?\n"
   ]
  },
  {
   "cell_type": "code",
   "execution_count": 23,
   "id": "aa52d8db",
   "metadata": {},
   "outputs": [
    {
     "name": "stdout",
     "output_type": "stream",
     "text": [
      "Standard deviation of departure delays: 14.702647790877291\n"
     ]
    }
   ],
   "source": [
    "import pandas as pd\n",
    "\n",
    "\n",
    "# Calculate the standard deviation of departure delays\n",
    "std_departure_delays = df['Late'].std()\n",
    "\n",
    "print(\"Standard deviation of departure delays:\", std_departure_delays)\n"
   ]
  },
  {
   "cell_type": "markdown",
   "id": "0f681a35",
   "metadata": {},
   "source": [
    "The standard deviation of departure delays, calculated from the provided sample data, is approximately 14.70. The standard deviation is a measure of the amount of variation or dispersion in a set of values. In the context of departure delays, this value indicates how spread out the departure delay values are from the mean. A higher standard deviation suggests a greater degree of variability in departure delay times."
   ]
  },
  {
   "cell_type": "markdown",
   "id": "bc327d2e",
   "metadata": {},
   "source": [
    "# 5. Compute the range (largest value less the smallest value) for all the departure delays. Based on the data, what is the range?\n"
   ]
  },
  {
   "cell_type": "code",
   "execution_count": 26,
   "id": "0c3e8cb2",
   "metadata": {},
   "outputs": [
    {
     "name": "stdout",
     "output_type": "stream",
     "text": [
      "Range of departure delays: 63\n"
     ]
    }
   ],
   "source": [
    "import pandas as pd\n",
    "\n",
    "# Calculate the range for departure delays\n",
    "departure_delays_range = df['Late'].max() - df['Late'].min()\n",
    "\n",
    "print(\"Range of departure delays:\", departure_delays_range)\n"
   ]
  },
  {
   "cell_type": "markdown",
   "id": "c91e84de",
   "metadata": {},
   "source": [
    "The range of departure delays, calculated from the provided sample data, is 63. The range represents the difference between the largest and smallest values in the \"Late\" column. In the context of departure delays, this value provides a simple measure of the spread of delay times in the dataset, capturing the full extent of the departure delay values."
   ]
  },
  {
   "cell_type": "markdown",
   "id": "885255c3",
   "metadata": {},
   "source": [
    "# 6.Compute the skewness for all the departure delays. Based on the data, what is the skewness?"
   ]
  },
  {
   "cell_type": "code",
   "execution_count": 27,
   "id": "c9e05d5c",
   "metadata": {},
   "outputs": [
    {
     "name": "stdout",
     "output_type": "stream",
     "text": [
      "Skewness of departure delays: 1.6255146946629817\n"
     ]
    }
   ],
   "source": [
    "import pandas as pd\n",
    "\n",
    "# Calculate the skewness for departure delays\n",
    "skewness_departure_delays = df['Late'].skew()\n",
    "\n",
    "print(\"Skewness of departure delays:\", skewness_departure_delays)\n"
   ]
  },
  {
   "cell_type": "markdown",
   "id": "03b80fd9",
   "metadata": {},
   "source": [
    "The skewness of departure delays, calculated from the provided sample data, is approximately 1.63. Skewness is a measure of the asymmetry of the probability distribution. In this case, a positive skewness value (greater than 0) indicates that the departure delays are skewed to the right, meaning there is a tail on the right side of the distribution, and the majority of the delays are concentrated on the left. This suggests that there may be some longer or more extreme delays in the dataset."
   ]
  },
  {
   "cell_type": "markdown",
   "id": "a9fefe5e",
   "metadata": {},
   "source": [
    "# 7.Based on the data, what is the shape of the distribution of data values for the departure delays?"
   ]
  },
  {
   "cell_type": "code",
   "execution_count": 28,
   "id": "9147161d",
   "metadata": {},
   "outputs": [
    {
     "name": "stdout",
     "output_type": "stream",
     "text": [
      "Skewness of departure delays: 1.6255146946629817\n",
      "Inferred shape of the distribution: Positively skewed (tail on the right)\n"
     ]
    }
   ],
   "source": [
    "import pandas as pd\n",
    "# Calculate the skewness for departure delays\n",
    "skewness_departure_delays = df['Late'].skew()\n",
    "\n",
    "# Infer the shape of the distribution\n",
    "if skewness_departure_delays > 0:\n",
    "    distribution_shape = \"Positively skewed (tail on the right)\"\n",
    "elif skewness_departure_delays < 0:\n",
    "    distribution_shape = \"Negatively skewed (tail on the left)\"\n",
    "else:\n",
    "    distribution_shape = \"Symmetric (no skewness)\"\n",
    "\n",
    "print(\"Skewness of departure delays:\", skewness_departure_delays)\n",
    "print(\"Inferred shape of the distribution:\", distribution_shape)\n"
   ]
  },
  {
   "cell_type": "code",
   "execution_count": 29,
   "id": "330a1356",
   "metadata": {},
   "outputs": [
    {
     "data": {
      "image/png": "[encoded data removed]",
      "text/plain": [
       "<Figure size 800x600 with 1 Axes>"
      ]
     },
     "metadata": {},
     "output_type": "display_data"
    }
   ],
   "source": [
    "import pandas as pd\n",
    "import matplotlib.pyplot as plt\n",
    "import seaborn as sns\n",
    "\n",
    "# Plot histogram\n",
    "plt.figure(figsize=(8, 6))\n",
    "sns.histplot(df['Late'], bins=10, kde=True, color='skyblue')\n",
    "plt.title('Distribution of Departure Delays')\n",
    "plt.xlabel('Departure Delays')\n",
    "plt.ylabel('Frequency')\n",
    "plt.show()\n"
   ]
  },
  {
   "cell_type": "markdown",
   "id": "e7118c49",
   "metadata": {},
   "source": [
    "The skewness of departure delays is approximately 1.63, indicating a positively skewed distribution. This is confirmed by the histogram with a kernel density plot, where you can observe a tail on the right side of the distribution. The majority of departure delays are concentrated on the left, with some longer or more extreme delays contributing to the rightward skewness. This shape suggests that there are occasional instances of significantly delayed departures in the dataset."
   ]
  }
 ],
 "metadata": {
  "kernelspec": {
   "display_name": "Python 3 (ipykernel)",
   "language": "python",
   "name": "python3"
  },
  "language_info": {
   "codemirror_mode": {
    "name": "ipython",
    "version": 3
   },
   "file_extension": ".py",
   "mimetype": "text/x-python",
   "name": "python",
   "nbconvert_exporter": "python",
   "pygments_lexer": "ipython3",
   "version": "3.11.5"
  }
 },
 "nbformat": 4,
 "nbformat_minor": 5
}
