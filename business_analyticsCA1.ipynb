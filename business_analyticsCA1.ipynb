{
 "cells": [
  {
   "cell_type": "markdown",
   "id": "6e2afe86",
   "metadata": {},
   "source": [
    " Name    : Malini D\n",
    " \n",
    " Roll.No : CB.SC.I5DAS20118"
   ]
  },
  {
   "cell_type": "markdown",
   "id": "3c0f905c",
   "metadata": {},
   "source": [
    "#                                BUSINESS ANALYTICS CASESTUDY 1                          \n",
    "#"
   ]
  },
  {
   "cell_type": "markdown",
   "id": "98fa1278",
   "metadata": {},
   "source": [
    "# 1. Determine the equation of the estimated regression line. Based on the data, what is the intercept of this line?"
   ]
  },
  {
   "cell_type": "code",
   "execution_count": 7,
   "id": "701eec79",
   "metadata": {},
   "outputs": [
    {
     "name": "stdout",
     "output_type": "stream",
     "text": [
      "Slope: 20, Intercept: 21\n"
     ]
    },
    {
     "data": {
      "image/png": "[encoded data removed]",
      "text/plain": [
       "<Figure size 640x480 with 1 Axes>"
      ]
     },
     "metadata": {},
     "output_type": "display_data"
    },
    {
     "name": "stdout",
     "output_type": "stream",
     "text": [
      "Intercept of the regression line: 21\n"
     ]
    }
   ],
   "source": [
    "import numpy as np\n",
    "import matplotlib.pyplot as plt\n",
    "\n",
    "# Given dataset\n",
    "gallons = np.array([7.813, 7.479, 5.608, 9.613, 8.914, 7.134, 6.368, 9.594, 5.502, 4.624, 11.056])\n",
    "miles = np.array([169, 155.9, 137.4, 207.9, 184.2, 184, 159.2, 174.9, 122.6, 108.9, 268.8])\n",
    "\n",
    "# Fit a linear regression model\n",
    "coefficients = np.polyfit(gallons, miles, 1)\n",
    "slope, intercept = coefficients\n",
    "\n",
    "# Round off the coefficients and intercept to whole numbers\n",
    "slope = round(slope)\n",
    "intercept = round(intercept)\n",
    "\n",
    "# Print the rounded coefficients\n",
    "print(f\"Slope: {slope}, Intercept: {intercept}\")\n",
    "\n",
    "# Plot the data points and regression line\n",
    "plt.scatter(gallons, miles, label='Data points')\n",
    "plt.plot(gallons, slope * gallons + intercept, color='red', label='Regression line')\n",
    "plt.xlabel('Gallons')\n",
    "plt.ylabel('Miles')\n",
    "plt.legend()\n",
    "plt.show()\n",
    "\n",
    "# Calculate the intercept based on the fitted line\n",
    "print(f\"Intercept of the regression line: {intercept}\")\n"
   ]
  },
  {
   "cell_type": "markdown",
   "id": "9cae4768",
   "metadata": {},
   "source": [
    "The calculated intercept of the regression line is approximately 21. This intercept represents the estimated miles driven when no gallons are consumed. The positive slope of the regression line indicates that, on average, as the amount of gallons consumed increases, the miles driven also tend to increase. The scatter plot visually illustrates this positive correlation between gallons and miles in the dataset."
   ]
  },
  {
   "cell_type": "markdown",
   "id": "64603718",
   "metadata": {},
   "source": [
    "# 2. Determine the equation of the estimated regression line. Based on the data, what is the slope of this line?"
   ]
  },
  {
   "cell_type": "code",
   "execution_count": 10,
   "id": "7e3bc2b0",
   "metadata": {},
   "outputs": [
    {
     "name": "stdout",
     "output_type": "stream",
     "text": [
      "Slope of the regression line: 20\n"
     ]
    }
   ],
   "source": [
    "import numpy as np\n",
    "import matplotlib.pyplot as plt\n",
    "\n",
    "# Given dataset\n",
    "gallons = np.array([7.813, 7.479, 5.608, 9.613, 8.914, 7.134, 6.368, 9.594, 5.502, 4.624, 11.056])\n",
    "miles = np.array([169, 155.9, 137.4, 207.9, 184.2, 184, 159.2, 174.9, 122.6, 108.9, 268.8])\n",
    "\n",
    "# Fit a linear regression model\n",
    "coefficients = np.polyfit(gallons, miles, 1)\n",
    "slope, intercept = coefficients\n",
    "\n",
    "# Round off the slope to a whole number\n",
    "slope = round(slope)\n",
    "\n",
    "# Calculate the rounded slope based on the fitted line\n",
    "print(f\"Slope of the regression line: {slope}\")\n"
   ]
  },
  {
   "cell_type": "markdown",
   "id": "51200114",
   "metadata": {},
   "source": [
    "The slope of the estimated regression line, calculated to be approximately 20, signifies the average increase in miles driven for each additional gallon consumed. This positive slope suggests a direct and moderate correlation between the two variables in the dataset."
   ]
  },
  {
   "cell_type": "markdown",
   "id": "a7052a38",
   "metadata": {},
   "source": [
    "# 3. What is the expected mileage Carlos can drive with 15 gallons?\n"
   ]
  },
  {
   "cell_type": "code",
   "execution_count": 17,
   "id": "47e0b386",
   "metadata": {},
   "outputs": [
    {
     "name": "stdout",
     "output_type": "stream",
     "text": [
      "Expected mileage for 15 gallons: 321.00\n"
     ]
    }
   ],
   "source": [
    "import numpy as np\n",
    "\n",
    "# Given data\n",
    "gallons = np.array([7.813, 7.479, 5.608, 9.613, 8.914, 7.134, 6.368, 9.594, 5.502, 4.624, 11.056])\n",
    "miles = np.array([169, 155.9, 137.4, 207.9, 184.2, 184, 159.2, 174.9, 122.6, 108.9, 268.8])\n",
    "\n",
    "# Perform linear regression\n",
    "coefficients = np.polyfit(gallons, miles, 1)\n",
    "\n",
    "# Get the intercept and slope\n",
    "slope,intercept = coefficients\n",
    "\n",
    "# Round off the coefficients and intercept to whole numbers\n",
    "slope = round(slope)\n",
    "intercept = round(intercept)\n",
    "\n",
    "\n",
    "# Calculate expected mileage for 15 gallons\n",
    "expected_mileage_15_gallons = slope * 15 + intercept\n",
    "\n",
    "print(f\"Expected mileage for 15 gallons: {expected_mileage_15_gallons:.2f}\")\n"
   ]
  },
  {
   "cell_type": "markdown",
   "id": "9da55a11",
   "metadata": {},
   "source": [
    "The expected mileage for 15 gallons, based on the linear regression model, is approximately 321. This means that, according to the model, Carlos can expect to drive around 321 miles with 15 gallons of fuel."
   ]
  },
  {
   "cell_type": "code",
   "execution_count": null,
   "id": "9d49107f",
   "metadata": {},
   "outputs": [],
   "source": []
  }
 ],
 "metadata": {
  "kernelspec": {
   "display_name": "Python 3 (ipykernel)",
   "language": "python",
   "name": "python3"
  },
  "language_info": {
   "codemirror_mode": {
    "name": "ipython",
    "version": 3
   },
   "file_extension": ".py",
   "mimetype": "text/x-python",
   "name": "python",
   "nbconvert_exporter": "python",
   "pygments_lexer": "ipython3",
   "version": "3.11.5"
  }
 },
 "nbformat": 4,
 "nbformat_minor": 5
}
